{
 "cells": [
  {
   "cell_type": "markdown",
   "id": "36df02cc",
   "metadata": {},
   "source": [
    "# 1. State the Hypotheses statement:"
   ]
  },
  {
   "cell_type": "code",
   "execution_count": null,
   "id": "6e1814db",
   "metadata": {},
   "outputs": [],
   "source": [
    "#H0(Null hypothesis)=weekly operating cost<=4000\n",
    "#H1(Alternative hypothesis)=weekly operating cost>4000"
   ]
  },
  {
   "cell_type": "markdown",
   "id": "d5f3e125",
   "metadata": {},
   "source": [
    "# 2. Calculate the Test Statistic:"
   ]
  },
  {
   "cell_type": "code",
   "execution_count": 1,
   "id": "a326b12a",
   "metadata": {},
   "outputs": [],
   "source": [
    "import numpy as np\n",
    "from scipy.stats import norm"
   ]
  },
  {
   "cell_type": "code",
   "execution_count": 4,
   "id": "96ad293d",
   "metadata": {},
   "outputs": [
    {
     "name": "stdout",
     "output_type": "stream",
     "text": [
      "the t_statistic value is :-38.0\n"
     ]
    }
   ],
   "source": [
    "s_mean=3050 #sample mean as given\n",
    "t_mean=1000+5*600 #theoratical mean as given\n",
    "std=5*25 #population standar deviation \n",
    "n=25 #sample size\n",
    "t_stat=(s_mean-t_mean)/(std/np.sqrt(n))\n",
    "print(f\"the t_statistic value is :{t_stat}\")\n"
   ]
  },
  {
   "cell_type": "markdown",
   "id": "e76018d8",
   "metadata": {},
   "source": [
    "# 3. Determine the Critical Value:"
   ]
  },
  {
   "cell_type": "code",
   "execution_count": 7,
   "id": "6c3bc523",
   "metadata": {},
   "outputs": [
    {
     "data": {
      "text/plain": [
       "1.6448536269514722"
      ]
     },
     "execution_count": 7,
     "metadata": {},
     "output_type": "execute_result"
    }
   ],
   "source": [
    "aplha=0.05 #as given in dataset\n",
    "z_crtical=norm.ppf(1-aplha)\n",
    "z_crtical"
   ]
  },
  {
   "cell_type": "markdown",
   "id": "cd44ced4",
   "metadata": {},
   "source": [
    "# 4. Make a Decision:"
   ]
  },
  {
   "cell_type": "code",
   "execution_count": 8,
   "id": "83245c3e",
   "metadata": {},
   "outputs": [
    {
     "name": "stdout",
     "output_type": "stream",
     "text": [
      "Accept the null hypothesis\n"
     ]
    }
   ],
   "source": [
    "if t_stat>z_crtical:\n",
    "    print(\"Reject the null hypothesis\")\n",
    "else:\n",
    "    print(\"Accept the null hypothesis\")"
   ]
  },
  {
   "cell_type": "markdown",
   "id": "a915b87e",
   "metadata": {},
   "source": [
    "# 5. Conclusion:"
   ]
  },
  {
   "cell_type": "code",
   "execution_count": null,
   "id": "307f24d5",
   "metadata": {},
   "outputs": [],
   "source": [
    "#based on the above result There is no evidence to support the restaurant owners’ claim \n",
    "#that the weekly operating costs are higher than what the theoretical model predicts."
   ]
  }
 ],
 "metadata": {
  "kernelspec": {
   "display_name": "Python 3 (ipykernel)",
   "language": "python",
   "name": "python3"
  },
  "language_info": {
   "codemirror_mode": {
    "name": "ipython",
    "version": 3
   },
   "file_extension": ".py",
   "mimetype": "text/x-python",
   "name": "python",
   "nbconvert_exporter": "python",
   "pygments_lexer": "ipython3",
   "version": "3.9.13"
  }
 },
 "nbformat": 4,
 "nbformat_minor": 5
}
